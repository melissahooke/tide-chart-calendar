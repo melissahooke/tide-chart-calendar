{
 "cells": [
  {
   "cell_type": "code",
   "execution_count": 42,
   "metadata": {},
   "outputs": [
    {
     "name": "stdout",
     "output_type": "stream",
     "text": [
      "Requirement already satisfied: lxml in /Library/Frameworks/Python.framework/Versions/3.8/lib/python3.8/site-packages (4.5.1)\n",
      "\u001b[33mWARNING: You are using pip version 20.2.1; however, version 20.3.3 is available.\n",
      "You should consider upgrading via the '/Library/Frameworks/Python.framework/Versions/3.8/bin/python3.8 -m pip install --upgrade pip' command.\u001b[0m\n"
     ]
    }
   ],
   "source": [
    "import sys\n",
    "!{sys.executable} -m pip install lxml"
   ]
  },
  {
   "cell_type": "code",
   "execution_count": 43,
   "metadata": {},
   "outputs": [],
   "source": [
    "import requests\n",
    "import lxml.html as lh\n",
    "import pandas as pd\n",
    "import plotly.graph_objs as plotly\n",
    "import numpy as np\n",
    "import datetime"
   ]
  },
  {
   "cell_type": "code",
   "execution_count": 44,
   "metadata": {},
   "outputs": [],
   "source": [
    "#Let's see what the output for one month looks like:\n",
    "year = '2020'\n",
    "month = '01' #adapt for for loop\n",
    "state = 'massachusetts'\n",
    "location = 'great-hill-ma'\n",
    "\n",
    "#This code (next 3 lines) is adapted from https://towardsdatascience.com/web-scraping-html-tables-with-python-c9baba21059\n",
    "url='https://www.usharbors.com/harbor/'+state+'/'+location+'/tides/?tide='+year+'-'+month+'#monthly-tide-chart'\n",
    "#Create a handle, page, to handle the contents of the website\n",
    "page = requests.get(url)\n",
    "#Store the contents of the website under doc\n",
    "doc = lh.fromstring(page.content)\n",
    "#Parse data that are stored between <tr>..</tr> of HTML\n",
    "tr_elements = doc.xpath('//tr')\n",
    "\n",
    "#save the raw html rows as \"table\"\n",
    "table = tr_elements"
   ]
  },
  {
   "cell_type": "code",
   "execution_count": 45,
   "metadata": {},
   "outputs": [
    {
     "name": "stdout",
     "output_type": "stream",
     "text": [
      "\n",
      "The number of columns in the first twelve rows are:\n",
      "[6, 10, 15, 15, 15, 15, 15, 15, 15, 15, 15, 15]\n",
      "\n",
      "Sample row output:\n",
      "9\n",
      "Thu\n",
      "6:40\n",
      "4.7\n",
      "7:04\n",
      "3.7\n",
      "\n",
      "\n",
      "12:17\n",
      "0.1\n",
      "7:07\n",
      "4:31\n",
      "\n",
      "9\n",
      "Thu\n",
      "Doesn't look like we need the last 3 columns. So we'll just grab the first 12.\n",
      "\n",
      "The number of rows is: 35\n"
     ]
    }
   ],
   "source": [
    "#print the lengths of the first few rows to see where the actual tide chart starts\n",
    "print(\"\\nThe number of columns in the first twelve rows are:\")\n",
    "print([len(T) for T in table[:12]])\n",
    "\n",
    "#check the output of one row\n",
    "print(\"\\nSample row output:\")\n",
    "row = 10\n",
    "for col in range(len(table[row])):\n",
    "    print(table[row][col].text_content())\n",
    "print(\"Doesn't look like we need the last 3 columns. So we'll just grab the first 12.\")\n",
    "number_of_columns = 12\n",
    "    \n",
    "#Check how many rows we have\n",
    "print(\"\\nThe number of rows is: \" + str(len(table)))"
   ]
  },
  {
   "cell_type": "code",
   "execution_count": 46,
   "metadata": {},
   "outputs": [],
   "source": [
    "#Function which scrapes the URL for the current month\n",
    "def get_month_table(month):\n",
    "    if month > 9: #month as a string to use for the URL def\n",
    "        month_str = str(month)\n",
    "    else: \n",
    "        month_str = '0'+str(month)\n",
    "    #This code (next 3 lines) is adapted from https://towardsdatascience.com/web-scraping-html-tables-with-python-c9baba21059\n",
    "    url='https://www.usharbors.com/harbor/'+state+'/'+location+'/tides/?tide='+year+'-'+month_str+'#monthly-tide-chart'\n",
    "    #Create a handle, page, to handle the contents of the website\n",
    "    page = requests.get(url)\n",
    "    #Store the contents of the website under doc\n",
    "    doc = lh.fromstring(page.content)\n",
    "    #Parse data that are stored between <tr>..</tr> of HTML\n",
    "    tr_elements = doc.xpath('//tr')\n",
    "    #save the raw html rows as \"table\"\n",
    "    table = tr_elements\n",
    "    return(table)"
   ]
  },
  {
   "cell_type": "code",
   "execution_count": 47,
   "metadata": {},
   "outputs": [],
   "source": [
    "def find_first_row(table):\n",
    "    for row in range(len(table)):\n",
    "        if table[row][0].text_content() == '1':\n",
    "            return(row)"
   ]
  },
  {
   "cell_type": "code",
   "execution_count": 48,
   "metadata": {},
   "outputs": [],
   "source": [
    "def isInt(s):\n",
    "    try: \n",
    "        int(s)\n",
    "        return True\n",
    "    except ValueError:\n",
    "        return False"
   ]
  },
  {
   "cell_type": "code",
   "execution_count": 49,
   "metadata": {},
   "outputs": [],
   "source": [
    "months = ['January','February','March','April','May','June','July','August','September','October','November','December']"
   ]
  },
  {
   "cell_type": "code",
   "execution_count": 50,
   "metadata": {},
   "outputs": [],
   "source": [
    "year_str = str(year)\n",
    "\n",
    "#Empty df to store the data:\n",
    "df = []\n",
    "\n",
    "for month in range(1,13):\n",
    "    month_str_display = months[month-1]\n",
    "    table = get_month_table(month) #get the data for this month\n",
    "\n",
    "    #find the first row\n",
    "    row = find_first_row(table)\n",
    "\n",
    "    #while the first entry of the row is less than the number of days in the month\n",
    "    while isInt(table[row][0].text_content()):\n",
    "        row_data = ['']*number_of_columns\n",
    "        for col in range(number_of_columns):\n",
    "            row_data[col] = table[row][col].text_content()\n",
    "        row_data.insert(0,month_str_display)\n",
    "        df.append(row_data)\n",
    "        row+=1"
   ]
  },
  {
   "cell_type": "code",
   "execution_count": 51,
   "metadata": {},
   "outputs": [
    {
     "name": "stdout",
     "output_type": "stream",
     "text": [
      "The number of rows is 366, this number should match the number of days in the given year, so 365 or 366\n"
     ]
    }
   ],
   "source": [
    "print(\"The number of rows is \"+str(len(df))+\", this number should match the number of days in the given year, so 365 or 366\")\n"
   ]
  },
  {
   "cell_type": "code",
   "execution_count": 52,
   "metadata": {},
   "outputs": [],
   "source": [
    "column_names = ['Month','Date','Day','high_1','height_hi_1','high_2','height_hi_2','low_1','height_low_1','low_2','height_low_2','sunrise','sunset']\n",
    "data = pd.DataFrame(df,columns=column_names)"
   ]
  },
  {
   "cell_type": "code",
   "execution_count": 53,
   "metadata": {
    "scrolled": true
   },
   "outputs": [
    {
     "data": {
      "text/html": [
       "<div>\n",
       "<style scoped>\n",
       "    .dataframe tbody tr th:only-of-type {\n",
       "        vertical-align: middle;\n",
       "    }\n",
       "\n",
       "    .dataframe tbody tr th {\n",
       "        vertical-align: top;\n",
       "    }\n",
       "\n",
       "    .dataframe thead th {\n",
       "        text-align: right;\n",
       "    }\n",
       "</style>\n",
       "<table border=\"1\" class=\"dataframe\">\n",
       "  <thead>\n",
       "    <tr style=\"text-align: right;\">\n",
       "      <th></th>\n",
       "      <th>Month</th>\n",
       "      <th>Date</th>\n",
       "      <th>Day</th>\n",
       "      <th>high_1</th>\n",
       "      <th>height_hi_1</th>\n",
       "      <th>high_2</th>\n",
       "      <th>height_hi_2</th>\n",
       "      <th>low_1</th>\n",
       "      <th>height_low_1</th>\n",
       "      <th>low_2</th>\n",
       "      <th>height_low_2</th>\n",
       "      <th>sunrise</th>\n",
       "      <th>sunset</th>\n",
       "    </tr>\n",
       "  </thead>\n",
       "  <tbody>\n",
       "    <tr>\n",
       "      <th>0</th>\n",
       "      <td>January</td>\n",
       "      <td>1</td>\n",
       "      <td>Wed</td>\n",
       "      <td>12:00</td>\n",
       "      <td>3.6</td>\n",
       "      <td>12:20</td>\n",
       "      <td>3.6</td>\n",
       "      <td>4:57</td>\n",
       "      <td>0.7</td>\n",
       "      <td>5:21</td>\n",
       "      <td>0.6</td>\n",
       "      <td>7:08</td>\n",
       "      <td>4:24</td>\n",
       "    </tr>\n",
       "    <tr>\n",
       "      <th>1</th>\n",
       "      <td>January</td>\n",
       "      <td>2</td>\n",
       "      <td>Thu</td>\n",
       "      <td>12:53</td>\n",
       "      <td>3.6</td>\n",
       "      <td>1:14</td>\n",
       "      <td>3.4</td>\n",
       "      <td>5:45</td>\n",
       "      <td>0.8</td>\n",
       "      <td>6:05</td>\n",
       "      <td>0.7</td>\n",
       "      <td>7:08</td>\n",
       "      <td>4:25</td>\n",
       "    </tr>\n",
       "    <tr>\n",
       "      <th>2</th>\n",
       "      <td>January</td>\n",
       "      <td>3</td>\n",
       "      <td>Fri</td>\n",
       "      <td>1:44</td>\n",
       "      <td>3.7</td>\n",
       "      <td>2:04</td>\n",
       "      <td>3.3</td>\n",
       "      <td>6:43</td>\n",
       "      <td>1.0</td>\n",
       "      <td>6:57</td>\n",
       "      <td>0.7</td>\n",
       "      <td>7:08</td>\n",
       "      <td>4:25</td>\n",
       "    </tr>\n",
       "    <tr>\n",
       "      <th>3</th>\n",
       "      <td>January</td>\n",
       "      <td>4</td>\n",
       "      <td>Sat</td>\n",
       "      <td>2:32</td>\n",
       "      <td>3.8</td>\n",
       "      <td>2:55</td>\n",
       "      <td>3.2</td>\n",
       "      <td>7:51</td>\n",
       "      <td>1.0</td>\n",
       "      <td>7:53</td>\n",
       "      <td>0.8</td>\n",
       "      <td>7:08</td>\n",
       "      <td>4:26</td>\n",
       "    </tr>\n",
       "    <tr>\n",
       "      <th>4</th>\n",
       "      <td>January</td>\n",
       "      <td>5</td>\n",
       "      <td>Sun</td>\n",
       "      <td>3:23</td>\n",
       "      <td>3.9</td>\n",
       "      <td>3:48</td>\n",
       "      <td>3.2</td>\n",
       "      <td>9:04</td>\n",
       "      <td>0.9</td>\n",
       "      <td>8:50</td>\n",
       "      <td>0.7</td>\n",
       "      <td>7:08</td>\n",
       "      <td>4:27</td>\n",
       "    </tr>\n",
       "    <tr>\n",
       "      <th>...</th>\n",
       "      <td>...</td>\n",
       "      <td>...</td>\n",
       "      <td>...</td>\n",
       "      <td>...</td>\n",
       "      <td>...</td>\n",
       "      <td>...</td>\n",
       "      <td>...</td>\n",
       "      <td>...</td>\n",
       "      <td>...</td>\n",
       "      <td>...</td>\n",
       "      <td>...</td>\n",
       "      <td>...</td>\n",
       "      <td>...</td>\n",
       "    </tr>\n",
       "    <tr>\n",
       "      <th>361</th>\n",
       "      <td>December</td>\n",
       "      <td>27</td>\n",
       "      <td>Sun</td>\n",
       "      <td>5:56</td>\n",
       "      <td>4.2</td>\n",
       "      <td>6:20</td>\n",
       "      <td>3.4</td>\n",
       "      <td>12:18 PM</td>\n",
       "      <td>0.6</td>\n",
       "      <td>11:26</td>\n",
       "      <td>0.6</td>\n",
       "      <td>7:07</td>\n",
       "      <td>4:20</td>\n",
       "    </tr>\n",
       "    <tr>\n",
       "      <th>362</th>\n",
       "      <td>December</td>\n",
       "      <td>28</td>\n",
       "      <td>Mon</td>\n",
       "      <td>6:37</td>\n",
       "      <td>4.3</td>\n",
       "      <td>7:01</td>\n",
       "      <td>3.5</td>\n",
       "      <td>12:23 PM</td>\n",
       "      <td>0.5</td>\n",
       "      <td>11:59</td>\n",
       "      <td>0.4</td>\n",
       "      <td>7:07</td>\n",
       "      <td>4:21</td>\n",
       "    </tr>\n",
       "    <tr>\n",
       "      <th>363</th>\n",
       "      <td>December</td>\n",
       "      <td>29</td>\n",
       "      <td>Tue</td>\n",
       "      <td>7:17</td>\n",
       "      <td>4.4</td>\n",
       "      <td>7:40</td>\n",
       "      <td>3.6</td>\n",
       "      <td></td>\n",
       "      <td></td>\n",
       "      <td>12:50</td>\n",
       "      <td>0.4</td>\n",
       "      <td>7:07</td>\n",
       "      <td>4:22</td>\n",
       "    </tr>\n",
       "    <tr>\n",
       "      <th>364</th>\n",
       "      <td>December</td>\n",
       "      <td>30</td>\n",
       "      <td>Wed</td>\n",
       "      <td>7:56</td>\n",
       "      <td>4.5</td>\n",
       "      <td>8:20</td>\n",
       "      <td>3.6</td>\n",
       "      <td>12:35</td>\n",
       "      <td>0.3</td>\n",
       "      <td>1:26</td>\n",
       "      <td>0.3</td>\n",
       "      <td>7:08</td>\n",
       "      <td>4:23</td>\n",
       "    </tr>\n",
       "    <tr>\n",
       "      <th>365</th>\n",
       "      <td>December</td>\n",
       "      <td>31</td>\n",
       "      <td>Thu</td>\n",
       "      <td>8:36</td>\n",
       "      <td>4.5</td>\n",
       "      <td>9:01</td>\n",
       "      <td>3.7</td>\n",
       "      <td>1:16</td>\n",
       "      <td>0.2</td>\n",
       "      <td>2:07</td>\n",
       "      <td>0.1</td>\n",
       "      <td>7:08</td>\n",
       "      <td>4:24</td>\n",
       "    </tr>\n",
       "  </tbody>\n",
       "</table>\n",
       "<p>366 rows × 13 columns</p>\n",
       "</div>"
      ],
      "text/plain": [
       "        Month Date  Day high_1 height_hi_1 high_2 height_hi_2     low_1  \\\n",
       "0     January    1  Wed  12:00         3.6  12:20         3.6      4:57   \n",
       "1     January    2  Thu  12:53         3.6   1:14         3.4      5:45   \n",
       "2     January    3  Fri   1:44         3.7   2:04         3.3      6:43   \n",
       "3     January    4  Sat   2:32         3.8   2:55         3.2      7:51   \n",
       "4     January    5  Sun   3:23         3.9   3:48         3.2      9:04   \n",
       "..        ...  ...  ...    ...         ...    ...         ...       ...   \n",
       "361  December   27  Sun   5:56         4.2   6:20         3.4  12:18 PM   \n",
       "362  December   28  Mon   6:37         4.3   7:01         3.5  12:23 PM   \n",
       "363  December   29  Tue   7:17         4.4   7:40         3.6             \n",
       "364  December   30  Wed   7:56         4.5   8:20         3.6     12:35   \n",
       "365  December   31  Thu   8:36         4.5   9:01         3.7      1:16   \n",
       "\n",
       "    height_low_1  low_2 height_low_2 sunrise sunset  \n",
       "0            0.7   5:21          0.6    7:08   4:24  \n",
       "1            0.8   6:05          0.7    7:08   4:25  \n",
       "2            1.0   6:57          0.7    7:08   4:25  \n",
       "3            1.0   7:53          0.8    7:08   4:26  \n",
       "4            0.9   8:50          0.7    7:08   4:27  \n",
       "..           ...    ...          ...     ...    ...  \n",
       "361          0.6  11:26          0.6    7:07   4:20  \n",
       "362          0.5  11:59          0.4    7:07   4:21  \n",
       "363               12:50          0.4    7:07   4:22  \n",
       "364          0.3   1:26          0.3    7:08   4:23  \n",
       "365          0.2   2:07          0.1    7:08   4:24  \n",
       "\n",
       "[366 rows x 13 columns]"
      ]
     },
     "execution_count": 53,
     "metadata": {},
     "output_type": "execute_result"
    }
   ],
   "source": [
    "data"
   ]
  },
  {
   "cell_type": "code",
   "execution_count": 54,
   "metadata": {},
   "outputs": [],
   "source": [
    "data.to_csv('tide-chart-'+location+'-'+year_str+'.csv',index=False)"
   ]
  },
  {
   "cell_type": "code",
   "execution_count": 55,
   "metadata": {},
   "outputs": [
    {
     "data": {
      "text/html": [
       "        <script type=\"text/javascript\">\n",
       "        window.PlotlyConfig = {MathJaxConfig: 'local'};\n",
       "        if (window.MathJax) {MathJax.Hub.Config({SVG: {font: \"STIX-Web\"}});}\n",
       "        if (typeof require !== 'undefined') {\n",
       "        require.undef(\"plotly\");\n",
       "        requirejs.config({\n",
       "            paths: {\n",
       "                'plotly': ['https://cdn.plot.ly/plotly-latest.min']\n",
       "            }\n",
       "        });\n",
       "        require(['plotly'], function(Plotly) {\n",
       "            window._Plotly = Plotly;\n",
       "        });\n",
       "        }\n",
       "        </script>\n",
       "        "
      ]
     },
     "metadata": {},
     "output_type": "display_data"
    },
    {
     "data": {
      "application/vnd.plotly.v1+json": {
       "config": {
        "linkText": "Export to plot.ly",
        "plotlyServerURL": "https://plot.ly",
        "showLink": false
       },
       "data": [
        {
         "line": {
          "shape": "spline"
         },
         "name": "spline",
         "type": "scatter",
         "x": [
          1,
          2,
          3,
          4,
          5
         ],
         "y": [
          1,
          3,
          2,
          3,
          1
         ]
        }
       ],
       "layout": {
        "template": {
         "data": {
          "bar": [
           {
            "error_x": {
             "color": "#2a3f5f"
            },
            "error_y": {
             "color": "#2a3f5f"
            },
            "marker": {
             "line": {
              "color": "#E5ECF6",
              "width": 0.5
             }
            },
            "type": "bar"
           }
          ],
          "barpolar": [
           {
            "marker": {
             "line": {
              "color": "#E5ECF6",
              "width": 0.5
             }
            },
            "type": "barpolar"
           }
          ],
          "carpet": [
           {
            "aaxis": {
             "endlinecolor": "#2a3f5f",
             "gridcolor": "white",
             "linecolor": "white",
             "minorgridcolor": "white",
             "startlinecolor": "#2a3f5f"
            },
            "baxis": {
             "endlinecolor": "#2a3f5f",
             "gridcolor": "white",
             "linecolor": "white",
             "minorgridcolor": "white",
             "startlinecolor": "#2a3f5f"
            },
            "type": "carpet"
           }
          ],
          "choropleth": [
           {
            "colorbar": {
             "outlinewidth": 0,
             "ticks": ""
            },
            "type": "choropleth"
           }
          ],
          "contour": [
           {
            "colorbar": {
             "outlinewidth": 0,
             "ticks": ""
            },
            "colorscale": [
             [
              0,
              "#0d0887"
             ],
             [
              0.1111111111111111,
              "#46039f"
             ],
             [
              0.2222222222222222,
              "#7201a8"
             ],
             [
              0.3333333333333333,
              "#9c179e"
             ],
             [
              0.4444444444444444,
              "#bd3786"
             ],
             [
              0.5555555555555556,
              "#d8576b"
             ],
             [
              0.6666666666666666,
              "#ed7953"
             ],
             [
              0.7777777777777778,
              "#fb9f3a"
             ],
             [
              0.8888888888888888,
              "#fdca26"
             ],
             [
              1,
              "#f0f921"
             ]
            ],
            "type": "contour"
           }
          ],
          "contourcarpet": [
           {
            "colorbar": {
             "outlinewidth": 0,
             "ticks": ""
            },
            "type": "contourcarpet"
           }
          ],
          "heatmap": [
           {
            "colorbar": {
             "outlinewidth": 0,
             "ticks": ""
            },
            "colorscale": [
             [
              0,
              "#0d0887"
             ],
             [
              0.1111111111111111,
              "#46039f"
             ],
             [
              0.2222222222222222,
              "#7201a8"
             ],
             [
              0.3333333333333333,
              "#9c179e"
             ],
             [
              0.4444444444444444,
              "#bd3786"
             ],
             [
              0.5555555555555556,
              "#d8576b"
             ],
             [
              0.6666666666666666,
              "#ed7953"
             ],
             [
              0.7777777777777778,
              "#fb9f3a"
             ],
             [
              0.8888888888888888,
              "#fdca26"
             ],
             [
              1,
              "#f0f921"
             ]
            ],
            "type": "heatmap"
           }
          ],
          "heatmapgl": [
           {
            "colorbar": {
             "outlinewidth": 0,
             "ticks": ""
            },
            "colorscale": [
             [
              0,
              "#0d0887"
             ],
             [
              0.1111111111111111,
              "#46039f"
             ],
             [
              0.2222222222222222,
              "#7201a8"
             ],
             [
              0.3333333333333333,
              "#9c179e"
             ],
             [
              0.4444444444444444,
              "#bd3786"
             ],
             [
              0.5555555555555556,
              "#d8576b"
             ],
             [
              0.6666666666666666,
              "#ed7953"
             ],
             [
              0.7777777777777778,
              "#fb9f3a"
             ],
             [
              0.8888888888888888,
              "#fdca26"
             ],
             [
              1,
              "#f0f921"
             ]
            ],
            "type": "heatmapgl"
           }
          ],
          "histogram": [
           {
            "marker": {
             "colorbar": {
              "outlinewidth": 0,
              "ticks": ""
             }
            },
            "type": "histogram"
           }
          ],
          "histogram2d": [
           {
            "colorbar": {
             "outlinewidth": 0,
             "ticks": ""
            },
            "colorscale": [
             [
              0,
              "#0d0887"
             ],
             [
              0.1111111111111111,
              "#46039f"
             ],
             [
              0.2222222222222222,
              "#7201a8"
             ],
             [
              0.3333333333333333,
              "#9c179e"
             ],
             [
              0.4444444444444444,
              "#bd3786"
             ],
             [
              0.5555555555555556,
              "#d8576b"
             ],
             [
              0.6666666666666666,
              "#ed7953"
             ],
             [
              0.7777777777777778,
              "#fb9f3a"
             ],
             [
              0.8888888888888888,
              "#fdca26"
             ],
             [
              1,
              "#f0f921"
             ]
            ],
            "type": "histogram2d"
           }
          ],
          "histogram2dcontour": [
           {
            "colorbar": {
             "outlinewidth": 0,
             "ticks": ""
            },
            "colorscale": [
             [
              0,
              "#0d0887"
             ],
             [
              0.1111111111111111,
              "#46039f"
             ],
             [
              0.2222222222222222,
              "#7201a8"
             ],
             [
              0.3333333333333333,
              "#9c179e"
             ],
             [
              0.4444444444444444,
              "#bd3786"
             ],
             [
              0.5555555555555556,
              "#d8576b"
             ],
             [
              0.6666666666666666,
              "#ed7953"
             ],
             [
              0.7777777777777778,
              "#fb9f3a"
             ],
             [
              0.8888888888888888,
              "#fdca26"
             ],
             [
              1,
              "#f0f921"
             ]
            ],
            "type": "histogram2dcontour"
           }
          ],
          "mesh3d": [
           {
            "colorbar": {
             "outlinewidth": 0,
             "ticks": ""
            },
            "type": "mesh3d"
           }
          ],
          "parcoords": [
           {
            "line": {
             "colorbar": {
              "outlinewidth": 0,
              "ticks": ""
             }
            },
            "type": "parcoords"
           }
          ],
          "pie": [
           {
            "automargin": true,
            "type": "pie"
           }
          ],
          "scatter": [
           {
            "marker": {
             "colorbar": {
              "outlinewidth": 0,
              "ticks": ""
             }
            },
            "type": "scatter"
           }
          ],
          "scatter3d": [
           {
            "line": {
             "colorbar": {
              "outlinewidth": 0,
              "ticks": ""
             }
            },
            "marker": {
             "colorbar": {
              "outlinewidth": 0,
              "ticks": ""
             }
            },
            "type": "scatter3d"
           }
          ],
          "scattercarpet": [
           {
            "marker": {
             "colorbar": {
              "outlinewidth": 0,
              "ticks": ""
             }
            },
            "type": "scattercarpet"
           }
          ],
          "scattergeo": [
           {
            "marker": {
             "colorbar": {
              "outlinewidth": 0,
              "ticks": ""
             }
            },
            "type": "scattergeo"
           }
          ],
          "scattergl": [
           {
            "marker": {
             "colorbar": {
              "outlinewidth": 0,
              "ticks": ""
             }
            },
            "type": "scattergl"
           }
          ],
          "scattermapbox": [
           {
            "marker": {
             "colorbar": {
              "outlinewidth": 0,
              "ticks": ""
             }
            },
            "type": "scattermapbox"
           }
          ],
          "scatterpolar": [
           {
            "marker": {
             "colorbar": {
              "outlinewidth": 0,
              "ticks": ""
             }
            },
            "type": "scatterpolar"
           }
          ],
          "scatterpolargl": [
           {
            "marker": {
             "colorbar": {
              "outlinewidth": 0,
              "ticks": ""
             }
            },
            "type": "scatterpolargl"
           }
          ],
          "scatterternary": [
           {
            "marker": {
             "colorbar": {
              "outlinewidth": 0,
              "ticks": ""
             }
            },
            "type": "scatterternary"
           }
          ],
          "surface": [
           {
            "colorbar": {
             "outlinewidth": 0,
             "ticks": ""
            },
            "colorscale": [
             [
              0,
              "#0d0887"
             ],
             [
              0.1111111111111111,
              "#46039f"
             ],
             [
              0.2222222222222222,
              "#7201a8"
             ],
             [
              0.3333333333333333,
              "#9c179e"
             ],
             [
              0.4444444444444444,
              "#bd3786"
             ],
             [
              0.5555555555555556,
              "#d8576b"
             ],
             [
              0.6666666666666666,
              "#ed7953"
             ],
             [
              0.7777777777777778,
              "#fb9f3a"
             ],
             [
              0.8888888888888888,
              "#fdca26"
             ],
             [
              1,
              "#f0f921"
             ]
            ],
            "type": "surface"
           }
          ],
          "table": [
           {
            "cells": {
             "fill": {
              "color": "#EBF0F8"
             },
             "line": {
              "color": "white"
             }
            },
            "header": {
             "fill": {
              "color": "#C8D4E3"
             },
             "line": {
              "color": "white"
             }
            },
            "type": "table"
           }
          ]
         },
         "layout": {
          "annotationdefaults": {
           "arrowcolor": "#2a3f5f",
           "arrowhead": 0,
           "arrowwidth": 1
          },
          "coloraxis": {
           "colorbar": {
            "outlinewidth": 0,
            "ticks": ""
           }
          },
          "colorscale": {
           "diverging": [
            [
             0,
             "#8e0152"
            ],
            [
             0.1,
             "#c51b7d"
            ],
            [
             0.2,
             "#de77ae"
            ],
            [
             0.3,
             "#f1b6da"
            ],
            [
             0.4,
             "#fde0ef"
            ],
            [
             0.5,
             "#f7f7f7"
            ],
            [
             0.6,
             "#e6f5d0"
            ],
            [
             0.7,
             "#b8e186"
            ],
            [
             0.8,
             "#7fbc41"
            ],
            [
             0.9,
             "#4d9221"
            ],
            [
             1,
             "#276419"
            ]
           ],
           "sequential": [
            [
             0,
             "#0d0887"
            ],
            [
             0.1111111111111111,
             "#46039f"
            ],
            [
             0.2222222222222222,
             "#7201a8"
            ],
            [
             0.3333333333333333,
             "#9c179e"
            ],
            [
             0.4444444444444444,
             "#bd3786"
            ],
            [
             0.5555555555555556,
             "#d8576b"
            ],
            [
             0.6666666666666666,
             "#ed7953"
            ],
            [
             0.7777777777777778,
             "#fb9f3a"
            ],
            [
             0.8888888888888888,
             "#fdca26"
            ],
            [
             1,
             "#f0f921"
            ]
           ],
           "sequentialminus": [
            [
             0,
             "#0d0887"
            ],
            [
             0.1111111111111111,
             "#46039f"
            ],
            [
             0.2222222222222222,
             "#7201a8"
            ],
            [
             0.3333333333333333,
             "#9c179e"
            ],
            [
             0.4444444444444444,
             "#bd3786"
            ],
            [
             0.5555555555555556,
             "#d8576b"
            ],
            [
             0.6666666666666666,
             "#ed7953"
            ],
            [
             0.7777777777777778,
             "#fb9f3a"
            ],
            [
             0.8888888888888888,
             "#fdca26"
            ],
            [
             1,
             "#f0f921"
            ]
           ]
          },
          "colorway": [
           "#636efa",
           "#EF553B",
           "#00cc96",
           "#ab63fa",
           "#FFA15A",
           "#19d3f3",
           "#FF6692",
           "#B6E880",
           "#FF97FF",
           "#FECB52"
          ],
          "font": {
           "color": "#2a3f5f"
          },
          "geo": {
           "bgcolor": "white",
           "lakecolor": "white",
           "landcolor": "#E5ECF6",
           "showlakes": true,
           "showland": true,
           "subunitcolor": "white"
          },
          "hoverlabel": {
           "align": "left"
          },
          "hovermode": "closest",
          "mapbox": {
           "style": "light"
          },
          "paper_bgcolor": "white",
          "plot_bgcolor": "#E5ECF6",
          "polar": {
           "angularaxis": {
            "gridcolor": "white",
            "linecolor": "white",
            "ticks": ""
           },
           "bgcolor": "#E5ECF6",
           "radialaxis": {
            "gridcolor": "white",
            "linecolor": "white",
            "ticks": ""
           }
          },
          "scene": {
           "xaxis": {
            "backgroundcolor": "#E5ECF6",
            "gridcolor": "white",
            "gridwidth": 2,
            "linecolor": "white",
            "showbackground": true,
            "ticks": "",
            "zerolinecolor": "white"
           },
           "yaxis": {
            "backgroundcolor": "#E5ECF6",
            "gridcolor": "white",
            "gridwidth": 2,
            "linecolor": "white",
            "showbackground": true,
            "ticks": "",
            "zerolinecolor": "white"
           },
           "zaxis": {
            "backgroundcolor": "#E5ECF6",
            "gridcolor": "white",
            "gridwidth": 2,
            "linecolor": "white",
            "showbackground": true,
            "ticks": "",
            "zerolinecolor": "white"
           }
          },
          "shapedefaults": {
           "line": {
            "color": "#2a3f5f"
           }
          },
          "ternary": {
           "aaxis": {
            "gridcolor": "white",
            "linecolor": "white",
            "ticks": ""
           },
           "baxis": {
            "gridcolor": "white",
            "linecolor": "white",
            "ticks": ""
           },
           "bgcolor": "#E5ECF6",
           "caxis": {
            "gridcolor": "white",
            "linecolor": "white",
            "ticks": ""
           }
          },
          "title": {
           "x": 0.05
          },
          "xaxis": {
           "automargin": true,
           "gridcolor": "white",
           "linecolor": "white",
           "ticks": "",
           "title": {
            "standoff": 15
           },
           "zerolinecolor": "white",
           "zerolinewidth": 2
          },
          "yaxis": {
           "automargin": true,
           "gridcolor": "white",
           "linecolor": "white",
           "ticks": "",
           "title": {
            "standoff": 15
           },
           "zerolinecolor": "white",
           "zerolinewidth": 2
          }
         }
        }
       }
      },
      "text/html": [
       "<div>\n",
       "        \n",
       "        \n",
       "            <div id=\"bc997d73-a827-4c48-a9a2-27bc7e48df42\" class=\"plotly-graph-div\" style=\"height:525px; width:100%;\"></div>\n",
       "            <script type=\"text/javascript\">\n",
       "                require([\"plotly\"], function(Plotly) {\n",
       "                    window.PLOTLYENV=window.PLOTLYENV || {};\n",
       "                    \n",
       "                if (document.getElementById(\"bc997d73-a827-4c48-a9a2-27bc7e48df42\")) {\n",
       "                    Plotly.newPlot(\n",
       "                        'bc997d73-a827-4c48-a9a2-27bc7e48df42',\n",
       "                        [{\"line\": {\"shape\": \"spline\"}, \"name\": \"spline\", \"type\": \"scatter\", \"x\": [1, 2, 3, 4, 5], \"y\": [1, 3, 2, 3, 1]}],\n",
       "                        {\"template\": {\"data\": {\"bar\": [{\"error_x\": {\"color\": \"#2a3f5f\"}, \"error_y\": {\"color\": \"#2a3f5f\"}, \"marker\": {\"line\": {\"color\": \"#E5ECF6\", \"width\": 0.5}}, \"type\": \"bar\"}], \"barpolar\": [{\"marker\": {\"line\": {\"color\": \"#E5ECF6\", \"width\": 0.5}}, \"type\": \"barpolar\"}], \"carpet\": [{\"aaxis\": {\"endlinecolor\": \"#2a3f5f\", \"gridcolor\": \"white\", \"linecolor\": \"white\", \"minorgridcolor\": \"white\", \"startlinecolor\": \"#2a3f5f\"}, \"baxis\": {\"endlinecolor\": \"#2a3f5f\", \"gridcolor\": \"white\", \"linecolor\": \"white\", \"minorgridcolor\": \"white\", \"startlinecolor\": \"#2a3f5f\"}, \"type\": \"carpet\"}], \"choropleth\": [{\"colorbar\": {\"outlinewidth\": 0, \"ticks\": \"\"}, \"type\": \"choropleth\"}], \"contour\": [{\"colorbar\": {\"outlinewidth\": 0, \"ticks\": \"\"}, \"colorscale\": [[0.0, \"#0d0887\"], [0.1111111111111111, \"#46039f\"], [0.2222222222222222, \"#7201a8\"], [0.3333333333333333, \"#9c179e\"], [0.4444444444444444, \"#bd3786\"], [0.5555555555555556, \"#d8576b\"], [0.6666666666666666, \"#ed7953\"], [0.7777777777777778, \"#fb9f3a\"], [0.8888888888888888, \"#fdca26\"], [1.0, \"#f0f921\"]], \"type\": \"contour\"}], \"contourcarpet\": [{\"colorbar\": {\"outlinewidth\": 0, \"ticks\": \"\"}, \"type\": \"contourcarpet\"}], \"heatmap\": [{\"colorbar\": {\"outlinewidth\": 0, \"ticks\": \"\"}, \"colorscale\": [[0.0, \"#0d0887\"], [0.1111111111111111, \"#46039f\"], [0.2222222222222222, \"#7201a8\"], [0.3333333333333333, \"#9c179e\"], [0.4444444444444444, \"#bd3786\"], [0.5555555555555556, \"#d8576b\"], [0.6666666666666666, \"#ed7953\"], [0.7777777777777778, \"#fb9f3a\"], [0.8888888888888888, \"#fdca26\"], [1.0, \"#f0f921\"]], \"type\": \"heatmap\"}], \"heatmapgl\": [{\"colorbar\": {\"outlinewidth\": 0, \"ticks\": \"\"}, \"colorscale\": [[0.0, \"#0d0887\"], [0.1111111111111111, \"#46039f\"], [0.2222222222222222, \"#7201a8\"], [0.3333333333333333, \"#9c179e\"], [0.4444444444444444, \"#bd3786\"], [0.5555555555555556, \"#d8576b\"], [0.6666666666666666, \"#ed7953\"], [0.7777777777777778, \"#fb9f3a\"], [0.8888888888888888, \"#fdca26\"], [1.0, \"#f0f921\"]], \"type\": \"heatmapgl\"}], \"histogram\": [{\"marker\": {\"colorbar\": {\"outlinewidth\": 0, \"ticks\": \"\"}}, \"type\": \"histogram\"}], \"histogram2d\": [{\"colorbar\": {\"outlinewidth\": 0, \"ticks\": \"\"}, \"colorscale\": [[0.0, \"#0d0887\"], [0.1111111111111111, \"#46039f\"], [0.2222222222222222, \"#7201a8\"], [0.3333333333333333, \"#9c179e\"], [0.4444444444444444, \"#bd3786\"], [0.5555555555555556, \"#d8576b\"], [0.6666666666666666, \"#ed7953\"], [0.7777777777777778, \"#fb9f3a\"], [0.8888888888888888, \"#fdca26\"], [1.0, \"#f0f921\"]], \"type\": \"histogram2d\"}], \"histogram2dcontour\": [{\"colorbar\": {\"outlinewidth\": 0, \"ticks\": \"\"}, \"colorscale\": [[0.0, \"#0d0887\"], [0.1111111111111111, \"#46039f\"], [0.2222222222222222, \"#7201a8\"], [0.3333333333333333, \"#9c179e\"], [0.4444444444444444, \"#bd3786\"], [0.5555555555555556, \"#d8576b\"], [0.6666666666666666, \"#ed7953\"], [0.7777777777777778, \"#fb9f3a\"], [0.8888888888888888, \"#fdca26\"], [1.0, \"#f0f921\"]], \"type\": \"histogram2dcontour\"}], \"mesh3d\": [{\"colorbar\": {\"outlinewidth\": 0, \"ticks\": \"\"}, \"type\": \"mesh3d\"}], \"parcoords\": [{\"line\": {\"colorbar\": {\"outlinewidth\": 0, \"ticks\": \"\"}}, \"type\": \"parcoords\"}], \"pie\": [{\"automargin\": true, \"type\": \"pie\"}], \"scatter\": [{\"marker\": {\"colorbar\": {\"outlinewidth\": 0, \"ticks\": \"\"}}, \"type\": \"scatter\"}], \"scatter3d\": [{\"line\": {\"colorbar\": {\"outlinewidth\": 0, \"ticks\": \"\"}}, \"marker\": {\"colorbar\": {\"outlinewidth\": 0, \"ticks\": \"\"}}, \"type\": \"scatter3d\"}], \"scattercarpet\": [{\"marker\": {\"colorbar\": {\"outlinewidth\": 0, \"ticks\": \"\"}}, \"type\": \"scattercarpet\"}], \"scattergeo\": [{\"marker\": {\"colorbar\": {\"outlinewidth\": 0, \"ticks\": \"\"}}, \"type\": \"scattergeo\"}], \"scattergl\": [{\"marker\": {\"colorbar\": {\"outlinewidth\": 0, \"ticks\": \"\"}}, \"type\": \"scattergl\"}], \"scattermapbox\": [{\"marker\": {\"colorbar\": {\"outlinewidth\": 0, \"ticks\": \"\"}}, \"type\": \"scattermapbox\"}], \"scatterpolar\": [{\"marker\": {\"colorbar\": {\"outlinewidth\": 0, \"ticks\": \"\"}}, \"type\": \"scatterpolar\"}], \"scatterpolargl\": [{\"marker\": {\"colorbar\": {\"outlinewidth\": 0, \"ticks\": \"\"}}, \"type\": \"scatterpolargl\"}], \"scatterternary\": [{\"marker\": {\"colorbar\": {\"outlinewidth\": 0, \"ticks\": \"\"}}, \"type\": \"scatterternary\"}], \"surface\": [{\"colorbar\": {\"outlinewidth\": 0, \"ticks\": \"\"}, \"colorscale\": [[0.0, \"#0d0887\"], [0.1111111111111111, \"#46039f\"], [0.2222222222222222, \"#7201a8\"], [0.3333333333333333, \"#9c179e\"], [0.4444444444444444, \"#bd3786\"], [0.5555555555555556, \"#d8576b\"], [0.6666666666666666, \"#ed7953\"], [0.7777777777777778, \"#fb9f3a\"], [0.8888888888888888, \"#fdca26\"], [1.0, \"#f0f921\"]], \"type\": \"surface\"}], \"table\": [{\"cells\": {\"fill\": {\"color\": \"#EBF0F8\"}, \"line\": {\"color\": \"white\"}}, \"header\": {\"fill\": {\"color\": \"#C8D4E3\"}, \"line\": {\"color\": \"white\"}}, \"type\": \"table\"}]}, \"layout\": {\"annotationdefaults\": {\"arrowcolor\": \"#2a3f5f\", \"arrowhead\": 0, \"arrowwidth\": 1}, \"coloraxis\": {\"colorbar\": {\"outlinewidth\": 0, \"ticks\": \"\"}}, \"colorscale\": {\"diverging\": [[0, \"#8e0152\"], [0.1, \"#c51b7d\"], [0.2, \"#de77ae\"], [0.3, \"#f1b6da\"], [0.4, \"#fde0ef\"], [0.5, \"#f7f7f7\"], [0.6, \"#e6f5d0\"], [0.7, \"#b8e186\"], [0.8, \"#7fbc41\"], [0.9, \"#4d9221\"], [1, \"#276419\"]], \"sequential\": [[0.0, \"#0d0887\"], [0.1111111111111111, \"#46039f\"], [0.2222222222222222, \"#7201a8\"], [0.3333333333333333, \"#9c179e\"], [0.4444444444444444, \"#bd3786\"], [0.5555555555555556, \"#d8576b\"], [0.6666666666666666, \"#ed7953\"], [0.7777777777777778, \"#fb9f3a\"], [0.8888888888888888, \"#fdca26\"], [1.0, \"#f0f921\"]], \"sequentialminus\": [[0.0, \"#0d0887\"], [0.1111111111111111, \"#46039f\"], [0.2222222222222222, \"#7201a8\"], [0.3333333333333333, \"#9c179e\"], [0.4444444444444444, \"#bd3786\"], [0.5555555555555556, \"#d8576b\"], [0.6666666666666666, \"#ed7953\"], [0.7777777777777778, \"#fb9f3a\"], [0.8888888888888888, \"#fdca26\"], [1.0, \"#f0f921\"]]}, \"colorway\": [\"#636efa\", \"#EF553B\", \"#00cc96\", \"#ab63fa\", \"#FFA15A\", \"#19d3f3\", \"#FF6692\", \"#B6E880\", \"#FF97FF\", \"#FECB52\"], \"font\": {\"color\": \"#2a3f5f\"}, \"geo\": {\"bgcolor\": \"white\", \"lakecolor\": \"white\", \"landcolor\": \"#E5ECF6\", \"showlakes\": true, \"showland\": true, \"subunitcolor\": \"white\"}, \"hoverlabel\": {\"align\": \"left\"}, \"hovermode\": \"closest\", \"mapbox\": {\"style\": \"light\"}, \"paper_bgcolor\": \"white\", \"plot_bgcolor\": \"#E5ECF6\", \"polar\": {\"angularaxis\": {\"gridcolor\": \"white\", \"linecolor\": \"white\", \"ticks\": \"\"}, \"bgcolor\": \"#E5ECF6\", \"radialaxis\": {\"gridcolor\": \"white\", \"linecolor\": \"white\", \"ticks\": \"\"}}, \"scene\": {\"xaxis\": {\"backgroundcolor\": \"#E5ECF6\", \"gridcolor\": \"white\", \"gridwidth\": 2, \"linecolor\": \"white\", \"showbackground\": true, \"ticks\": \"\", \"zerolinecolor\": \"white\"}, \"yaxis\": {\"backgroundcolor\": \"#E5ECF6\", \"gridcolor\": \"white\", \"gridwidth\": 2, \"linecolor\": \"white\", \"showbackground\": true, \"ticks\": \"\", \"zerolinecolor\": \"white\"}, \"zaxis\": {\"backgroundcolor\": \"#E5ECF6\", \"gridcolor\": \"white\", \"gridwidth\": 2, \"linecolor\": \"white\", \"showbackground\": true, \"ticks\": \"\", \"zerolinecolor\": \"white\"}}, \"shapedefaults\": {\"line\": {\"color\": \"#2a3f5f\"}}, \"ternary\": {\"aaxis\": {\"gridcolor\": \"white\", \"linecolor\": \"white\", \"ticks\": \"\"}, \"baxis\": {\"gridcolor\": \"white\", \"linecolor\": \"white\", \"ticks\": \"\"}, \"bgcolor\": \"#E5ECF6\", \"caxis\": {\"gridcolor\": \"white\", \"linecolor\": \"white\", \"ticks\": \"\"}}, \"title\": {\"x\": 0.05}, \"xaxis\": {\"automargin\": true, \"gridcolor\": \"white\", \"linecolor\": \"white\", \"ticks\": \"\", \"title\": {\"standoff\": 15}, \"zerolinecolor\": \"white\", \"zerolinewidth\": 2}, \"yaxis\": {\"automargin\": true, \"gridcolor\": \"white\", \"linecolor\": \"white\", \"ticks\": \"\", \"title\": {\"standoff\": 15}, \"zerolinecolor\": \"white\", \"zerolinewidth\": 2}}}},\n",
       "                        {\"responsive\": true}\n",
       "                    ).then(function(){\n",
       "                            \n",
       "var gd = document.getElementById('bc997d73-a827-4c48-a9a2-27bc7e48df42');\n",
       "var x = new MutationObserver(function (mutations, observer) {{\n",
       "        var display = window.getComputedStyle(gd).display;\n",
       "        if (!display || display === 'none') {{\n",
       "            console.log([gd, 'removed!']);\n",
       "            Plotly.purge(gd);\n",
       "            observer.disconnect();\n",
       "        }}\n",
       "}});\n",
       "\n",
       "// Listen for the removal of the full notebook cells\n",
       "var notebookContainer = gd.closest('#notebook-container');\n",
       "if (notebookContainer) {{\n",
       "    x.observe(notebookContainer, {childList: true});\n",
       "}}\n",
       "\n",
       "// Listen for the clearing of the current output cell\n",
       "var outputEl = gd.closest('.output');\n",
       "if (outputEl) {{\n",
       "    x.observe(outputEl, {childList: true});\n",
       "}}\n",
       "\n",
       "                        })\n",
       "                };\n",
       "                });\n",
       "            </script>\n",
       "        </div>"
      ]
     },
     "metadata": {},
     "output_type": "display_data"
    }
   ],
   "source": [
    "#one time imports for plotting\n",
    "import plotly.offline as py\n",
    "import plotly.graph_objs as go\n",
    "py.init_notebook_mode(connected=True)\n",
    "\n",
    "#test the plotting \n",
    "x = np.array([1, 2, 3, 4, 5])\n",
    "y = np.array([1, 3, 2, 3, 1])\n",
    "fig=go.Scatter(x=x, y=y, name=\"spline\",line_shape='spline')\n",
    "py.iplot([fig],filename='test')"
   ]
  },
  {
   "cell_type": "code",
   "execution_count": 56,
   "metadata": {},
   "outputs": [],
   "source": [
    "high1 = pd.melt(data,id_vars=['Month','Date','Day','height_hi_1'],value_vars=['high_1'],var_name='event', value_name='time')\n",
    "high2 = pd.melt(data,id_vars=['Month','Date','Day','height_hi_2'],value_vars=['high_2'],var_name='event', value_name='time')\n",
    "low1 = pd.melt(data,id_vars=['Month','Date','Day','height_low_1'],value_vars=['low_1'],var_name='event', value_name='time')\n",
    "low2 = pd.melt(data,id_vars=['Month','Date','Day','height_low_2'],value_vars=['low_2'],var_name='event', value_name='time')\n",
    "sunrise = pd.melt(data,id_vars=['Month','Date','Day'],value_vars=['sunrise'],var_name='event', value_name='time')\n",
    "sunset = pd.melt(data,id_vars=['Month','Date','Day'],value_vars=['sunset'],var_name='event', value_name='time')"
   ]
  },
  {
   "cell_type": "code",
   "execution_count": 57,
   "metadata": {},
   "outputs": [],
   "source": [
    "high1 = high1.rename(columns={\"height_hi_1\": \"height\"})\n",
    "high2 = high2.rename(columns={\"height_hi_2\": \"height\"})\n",
    "low1 = low1.rename(columns={\"height_low_1\": \"height\"})\n",
    "low2 = low2.rename(columns={\"height_low_2\": \"height\"})\n",
    "sunrise['height'] = np.nan\n",
    "sunset['height'] = np.nan"
   ]
  },
  {
   "cell_type": "code",
   "execution_count": 58,
   "metadata": {},
   "outputs": [],
   "source": [
    "data = (pd.concat([high1, high2, low1, low2, sunrise, sunset])\n",
    "         .sort_index()\n",
    "         .reset_index())"
   ]
  },
  {
   "cell_type": "code",
   "execution_count": 59,
   "metadata": {},
   "outputs": [
    {
     "data": {
      "text/html": [
       "<div>\n",
       "<style scoped>\n",
       "    .dataframe tbody tr th:only-of-type {\n",
       "        vertical-align: middle;\n",
       "    }\n",
       "\n",
       "    .dataframe tbody tr th {\n",
       "        vertical-align: top;\n",
       "    }\n",
       "\n",
       "    .dataframe thead th {\n",
       "        text-align: right;\n",
       "    }\n",
       "</style>\n",
       "<table border=\"1\" class=\"dataframe\">\n",
       "  <thead>\n",
       "    <tr style=\"text-align: right;\">\n",
       "      <th></th>\n",
       "      <th>index</th>\n",
       "      <th>Month</th>\n",
       "      <th>Date</th>\n",
       "      <th>Day</th>\n",
       "      <th>height</th>\n",
       "      <th>event</th>\n",
       "      <th>time</th>\n",
       "    </tr>\n",
       "  </thead>\n",
       "  <tbody>\n",
       "    <tr>\n",
       "      <th>0</th>\n",
       "      <td>0</td>\n",
       "      <td>January</td>\n",
       "      <td>1</td>\n",
       "      <td>Wed</td>\n",
       "      <td>3.6</td>\n",
       "      <td>high_1</td>\n",
       "      <td>12:00</td>\n",
       "    </tr>\n",
       "    <tr>\n",
       "      <th>1</th>\n",
       "      <td>0</td>\n",
       "      <td>January</td>\n",
       "      <td>1</td>\n",
       "      <td>Wed</td>\n",
       "      <td>0.6</td>\n",
       "      <td>low_2</td>\n",
       "      <td>5:21</td>\n",
       "    </tr>\n",
       "    <tr>\n",
       "      <th>2</th>\n",
       "      <td>0</td>\n",
       "      <td>January</td>\n",
       "      <td>1</td>\n",
       "      <td>Wed</td>\n",
       "      <td>3.6</td>\n",
       "      <td>high_2</td>\n",
       "      <td>12:20</td>\n",
       "    </tr>\n",
       "    <tr>\n",
       "      <th>3</th>\n",
       "      <td>0</td>\n",
       "      <td>January</td>\n",
       "      <td>1</td>\n",
       "      <td>Wed</td>\n",
       "      <td>NaN</td>\n",
       "      <td>sunrise</td>\n",
       "      <td>7:08</td>\n",
       "    </tr>\n",
       "    <tr>\n",
       "      <th>4</th>\n",
       "      <td>0</td>\n",
       "      <td>January</td>\n",
       "      <td>1</td>\n",
       "      <td>Wed</td>\n",
       "      <td>NaN</td>\n",
       "      <td>sunset</td>\n",
       "      <td>4:24</td>\n",
       "    </tr>\n",
       "    <tr>\n",
       "      <th>...</th>\n",
       "      <td>...</td>\n",
       "      <td>...</td>\n",
       "      <td>...</td>\n",
       "      <td>...</td>\n",
       "      <td>...</td>\n",
       "      <td>...</td>\n",
       "      <td>...</td>\n",
       "    </tr>\n",
       "    <tr>\n",
       "      <th>2191</th>\n",
       "      <td>365</td>\n",
       "      <td>December</td>\n",
       "      <td>31</td>\n",
       "      <td>Thu</td>\n",
       "      <td>0.1</td>\n",
       "      <td>low_2</td>\n",
       "      <td>2:07</td>\n",
       "    </tr>\n",
       "    <tr>\n",
       "      <th>2192</th>\n",
       "      <td>365</td>\n",
       "      <td>December</td>\n",
       "      <td>31</td>\n",
       "      <td>Thu</td>\n",
       "      <td>3.7</td>\n",
       "      <td>high_2</td>\n",
       "      <td>9:01</td>\n",
       "    </tr>\n",
       "    <tr>\n",
       "      <th>2193</th>\n",
       "      <td>365</td>\n",
       "      <td>December</td>\n",
       "      <td>31</td>\n",
       "      <td>Thu</td>\n",
       "      <td>4.5</td>\n",
       "      <td>high_1</td>\n",
       "      <td>8:36</td>\n",
       "    </tr>\n",
       "    <tr>\n",
       "      <th>2194</th>\n",
       "      <td>365</td>\n",
       "      <td>December</td>\n",
       "      <td>31</td>\n",
       "      <td>Thu</td>\n",
       "      <td>NaN</td>\n",
       "      <td>sunrise</td>\n",
       "      <td>7:08</td>\n",
       "    </tr>\n",
       "    <tr>\n",
       "      <th>2195</th>\n",
       "      <td>365</td>\n",
       "      <td>December</td>\n",
       "      <td>31</td>\n",
       "      <td>Thu</td>\n",
       "      <td>NaN</td>\n",
       "      <td>sunset</td>\n",
       "      <td>4:24</td>\n",
       "    </tr>\n",
       "  </tbody>\n",
       "</table>\n",
       "<p>2147 rows × 7 columns</p>\n",
       "</div>"
      ],
      "text/plain": [
       "      index     Month Date  Day height    event   time\n",
       "0         0   January    1  Wed    3.6   high_1  12:00\n",
       "1         0   January    1  Wed    0.6    low_2   5:21\n",
       "2         0   January    1  Wed    3.6   high_2  12:20\n",
       "3         0   January    1  Wed    NaN  sunrise   7:08\n",
       "4         0   January    1  Wed    NaN   sunset   4:24\n",
       "...     ...       ...  ...  ...    ...      ...    ...\n",
       "2191    365  December   31  Thu    0.1    low_2   2:07\n",
       "2192    365  December   31  Thu    3.7   high_2   9:01\n",
       "2193    365  December   31  Thu    4.5   high_1   8:36\n",
       "2194    365  December   31  Thu    NaN  sunrise   7:08\n",
       "2195    365  December   31  Thu    NaN   sunset   4:24\n",
       "\n",
       "[2147 rows x 7 columns]"
      ]
     },
     "execution_count": 59,
     "metadata": {},
     "output_type": "execute_result"
    }
   ],
   "source": [
    "data = data[data['time']!='']\n",
    "data"
   ]
  },
  {
   "cell_type": "code",
   "execution_count": 60,
   "metadata": {},
   "outputs": [
    {
     "name": "stderr",
     "output_type": "stream",
     "text": [
      "/Library/Frameworks/Python.framework/Versions/3.8/lib/python3.8/site-packages/pandas/core/indexing.py:671: SettingWithCopyWarning:\n",
      "\n",
      "\n",
      "A value is trying to be set on a copy of a slice from a DataFrame\n",
      "\n",
      "See the caveats in the documentation: https://pandas.pydata.org/pandas-docs/stable/user_guide/indexing.html#returning-a-view-versus-a-copy\n",
      "\n"
     ]
    }
   ],
   "source": [
    "import re\n",
    "for row in range(len(data)):\n",
    "    event = data['event'].iloc[row]\n",
    "    time = data['time'].iloc[row]\n",
    "    if (event == 'high_1' or event == 'low_1' or event == 'sunrise'): #morning events\n",
    "        if not re.search('PM',str(time)):\n",
    "            time = time + ' AM'\n",
    "        time = pd.to_datetime(time).strftime('%H:%M %p')\n",
    "    if (event == 'high_2' or event == 'low_2' or event == 'sunset'): #evening events\n",
    "        if not re.search('AM',str(time)):\n",
    "            time = time + ' PM'\n",
    "        time = pd.to_datetime(time).strftime('%H:%M %p')\n",
    "    data['time'].iloc[row] = time"
   ]
  },
  {
   "cell_type": "code",
   "execution_count": 61,
   "metadata": {},
   "outputs": [
    {
     "data": {
      "text/html": [
       "<div>\n",
       "<style scoped>\n",
       "    .dataframe tbody tr th:only-of-type {\n",
       "        vertical-align: middle;\n",
       "    }\n",
       "\n",
       "    .dataframe tbody tr th {\n",
       "        vertical-align: top;\n",
       "    }\n",
       "\n",
       "    .dataframe thead th {\n",
       "        text-align: right;\n",
       "    }\n",
       "</style>\n",
       "<table border=\"1\" class=\"dataframe\">\n",
       "  <thead>\n",
       "    <tr style=\"text-align: right;\">\n",
       "      <th></th>\n",
       "      <th>index</th>\n",
       "      <th>Month</th>\n",
       "      <th>Date</th>\n",
       "      <th>Day</th>\n",
       "      <th>height</th>\n",
       "      <th>event</th>\n",
       "      <th>time</th>\n",
       "    </tr>\n",
       "  </thead>\n",
       "  <tbody>\n",
       "    <tr>\n",
       "      <th>0</th>\n",
       "      <td>0</td>\n",
       "      <td>January</td>\n",
       "      <td>1</td>\n",
       "      <td>Wed</td>\n",
       "      <td>3.6</td>\n",
       "      <td>high_1</td>\n",
       "      <td>00:00 AM</td>\n",
       "    </tr>\n",
       "    <tr>\n",
       "      <th>1</th>\n",
       "      <td>0</td>\n",
       "      <td>January</td>\n",
       "      <td>1</td>\n",
       "      <td>Wed</td>\n",
       "      <td>0.6</td>\n",
       "      <td>low_2</td>\n",
       "      <td>17:21 PM</td>\n",
       "    </tr>\n",
       "    <tr>\n",
       "      <th>2</th>\n",
       "      <td>0</td>\n",
       "      <td>January</td>\n",
       "      <td>1</td>\n",
       "      <td>Wed</td>\n",
       "      <td>3.6</td>\n",
       "      <td>high_2</td>\n",
       "      <td>12:20 PM</td>\n",
       "    </tr>\n",
       "    <tr>\n",
       "      <th>3</th>\n",
       "      <td>0</td>\n",
       "      <td>January</td>\n",
       "      <td>1</td>\n",
       "      <td>Wed</td>\n",
       "      <td>NaN</td>\n",
       "      <td>sunrise</td>\n",
       "      <td>07:08 AM</td>\n",
       "    </tr>\n",
       "    <tr>\n",
       "      <th>4</th>\n",
       "      <td>0</td>\n",
       "      <td>January</td>\n",
       "      <td>1</td>\n",
       "      <td>Wed</td>\n",
       "      <td>NaN</td>\n",
       "      <td>sunset</td>\n",
       "      <td>16:24 PM</td>\n",
       "    </tr>\n",
       "    <tr>\n",
       "      <th>...</th>\n",
       "      <td>...</td>\n",
       "      <td>...</td>\n",
       "      <td>...</td>\n",
       "      <td>...</td>\n",
       "      <td>...</td>\n",
       "      <td>...</td>\n",
       "      <td>...</td>\n",
       "    </tr>\n",
       "    <tr>\n",
       "      <th>2191</th>\n",
       "      <td>365</td>\n",
       "      <td>December</td>\n",
       "      <td>31</td>\n",
       "      <td>Thu</td>\n",
       "      <td>0.1</td>\n",
       "      <td>low_2</td>\n",
       "      <td>14:07 PM</td>\n",
       "    </tr>\n",
       "    <tr>\n",
       "      <th>2192</th>\n",
       "      <td>365</td>\n",
       "      <td>December</td>\n",
       "      <td>31</td>\n",
       "      <td>Thu</td>\n",
       "      <td>3.7</td>\n",
       "      <td>high_2</td>\n",
       "      <td>21:01 PM</td>\n",
       "    </tr>\n",
       "    <tr>\n",
       "      <th>2193</th>\n",
       "      <td>365</td>\n",
       "      <td>December</td>\n",
       "      <td>31</td>\n",
       "      <td>Thu</td>\n",
       "      <td>4.5</td>\n",
       "      <td>high_1</td>\n",
       "      <td>08:36 AM</td>\n",
       "    </tr>\n",
       "    <tr>\n",
       "      <th>2194</th>\n",
       "      <td>365</td>\n",
       "      <td>December</td>\n",
       "      <td>31</td>\n",
       "      <td>Thu</td>\n",
       "      <td>NaN</td>\n",
       "      <td>sunrise</td>\n",
       "      <td>07:08 AM</td>\n",
       "    </tr>\n",
       "    <tr>\n",
       "      <th>2195</th>\n",
       "      <td>365</td>\n",
       "      <td>December</td>\n",
       "      <td>31</td>\n",
       "      <td>Thu</td>\n",
       "      <td>NaN</td>\n",
       "      <td>sunset</td>\n",
       "      <td>16:24 PM</td>\n",
       "    </tr>\n",
       "  </tbody>\n",
       "</table>\n",
       "<p>2147 rows × 7 columns</p>\n",
       "</div>"
      ],
      "text/plain": [
       "      index     Month Date  Day height    event      time\n",
       "0         0   January    1  Wed    3.6   high_1  00:00 AM\n",
       "1         0   January    1  Wed    0.6    low_2  17:21 PM\n",
       "2         0   January    1  Wed    3.6   high_2  12:20 PM\n",
       "3         0   January    1  Wed    NaN  sunrise  07:08 AM\n",
       "4         0   January    1  Wed    NaN   sunset  16:24 PM\n",
       "...     ...       ...  ...  ...    ...      ...       ...\n",
       "2191    365  December   31  Thu    0.1    low_2  14:07 PM\n",
       "2192    365  December   31  Thu    3.7   high_2  21:01 PM\n",
       "2193    365  December   31  Thu    4.5   high_1  08:36 AM\n",
       "2194    365  December   31  Thu    NaN  sunrise  07:08 AM\n",
       "2195    365  December   31  Thu    NaN   sunset  16:24 PM\n",
       "\n",
       "[2147 rows x 7 columns]"
      ]
     },
     "execution_count": 61,
     "metadata": {},
     "output_type": "execute_result"
    }
   ],
   "source": [
    "data"
   ]
  },
  {
   "cell_type": "code",
   "execution_count": 62,
   "metadata": {},
   "outputs": [],
   "source": [
    "data['full_date'] = data['Month']+'-'+data['Date']+'-'+year+' '+data['time']\n",
    "data['full_date'] = pd.to_datetime(data['full_date'], format='%B-%d-%Y %H:%M %p')"
   ]
  },
  {
   "cell_type": "code",
   "execution_count": 63,
   "metadata": {},
   "outputs": [
    {
     "name": "stderr",
     "output_type": "stream",
     "text": [
      "/Library/Frameworks/Python.framework/Versions/3.8/lib/python3.8/site-packages/pandas/core/indexing.py:671: SettingWithCopyWarning:\n",
      "\n",
      "\n",
      "A value is trying to be set on a copy of a slice from a DataFrame\n",
      "\n",
      "See the caveats in the documentation: https://pandas.pydata.org/pandas-docs/stable/user_guide/indexing.html#returning-a-view-versus-a-copy\n",
      "\n"
     ]
    }
   ],
   "source": [
    "data['week_num'] = np.nan\n",
    "for row in range(len(data)):\n",
    "    data['week_num'].iloc[row] = data['full_date'].iloc[row].isocalendar()[1]\n",
    "    if data['Day'].iloc[row] == 'Sun':\n",
    "        data['week_num'].iloc[row] += 1"
   ]
  },
  {
   "cell_type": "code",
   "execution_count": 64,
   "metadata": {},
   "outputs": [
    {
     "data": {
      "text/html": [
       "<div>\n",
       "<style scoped>\n",
       "    .dataframe tbody tr th:only-of-type {\n",
       "        vertical-align: middle;\n",
       "    }\n",
       "\n",
       "    .dataframe tbody tr th {\n",
       "        vertical-align: top;\n",
       "    }\n",
       "\n",
       "    .dataframe thead th {\n",
       "        text-align: right;\n",
       "    }\n",
       "</style>\n",
       "<table border=\"1\" class=\"dataframe\">\n",
       "  <thead>\n",
       "    <tr style=\"text-align: right;\">\n",
       "      <th></th>\n",
       "      <th>index</th>\n",
       "      <th>Month</th>\n",
       "      <th>Date</th>\n",
       "      <th>Day</th>\n",
       "      <th>height</th>\n",
       "      <th>event</th>\n",
       "      <th>time</th>\n",
       "      <th>full_date</th>\n",
       "      <th>week_num</th>\n",
       "    </tr>\n",
       "  </thead>\n",
       "  <tbody>\n",
       "    <tr>\n",
       "      <th>0</th>\n",
       "      <td>0</td>\n",
       "      <td>January</td>\n",
       "      <td>1</td>\n",
       "      <td>Wed</td>\n",
       "      <td>3.6</td>\n",
       "      <td>high_1</td>\n",
       "      <td>00:00 AM</td>\n",
       "      <td>2020-01-01 00:00:00</td>\n",
       "      <td>1.0</td>\n",
       "    </tr>\n",
       "    <tr>\n",
       "      <th>1</th>\n",
       "      <td>0</td>\n",
       "      <td>January</td>\n",
       "      <td>1</td>\n",
       "      <td>Wed</td>\n",
       "      <td>0.6</td>\n",
       "      <td>low_2</td>\n",
       "      <td>17:21 PM</td>\n",
       "      <td>2020-01-01 17:21:00</td>\n",
       "      <td>1.0</td>\n",
       "    </tr>\n",
       "    <tr>\n",
       "      <th>2</th>\n",
       "      <td>0</td>\n",
       "      <td>January</td>\n",
       "      <td>1</td>\n",
       "      <td>Wed</td>\n",
       "      <td>3.6</td>\n",
       "      <td>high_2</td>\n",
       "      <td>12:20 PM</td>\n",
       "      <td>2020-01-01 12:20:00</td>\n",
       "      <td>1.0</td>\n",
       "    </tr>\n",
       "    <tr>\n",
       "      <th>3</th>\n",
       "      <td>0</td>\n",
       "      <td>January</td>\n",
       "      <td>1</td>\n",
       "      <td>Wed</td>\n",
       "      <td>NaN</td>\n",
       "      <td>sunrise</td>\n",
       "      <td>07:08 AM</td>\n",
       "      <td>2020-01-01 07:08:00</td>\n",
       "      <td>1.0</td>\n",
       "    </tr>\n",
       "    <tr>\n",
       "      <th>4</th>\n",
       "      <td>0</td>\n",
       "      <td>January</td>\n",
       "      <td>1</td>\n",
       "      <td>Wed</td>\n",
       "      <td>NaN</td>\n",
       "      <td>sunset</td>\n",
       "      <td>16:24 PM</td>\n",
       "      <td>2020-01-01 16:24:00</td>\n",
       "      <td>1.0</td>\n",
       "    </tr>\n",
       "    <tr>\n",
       "      <th>...</th>\n",
       "      <td>...</td>\n",
       "      <td>...</td>\n",
       "      <td>...</td>\n",
       "      <td>...</td>\n",
       "      <td>...</td>\n",
       "      <td>...</td>\n",
       "      <td>...</td>\n",
       "      <td>...</td>\n",
       "      <td>...</td>\n",
       "    </tr>\n",
       "    <tr>\n",
       "      <th>2191</th>\n",
       "      <td>365</td>\n",
       "      <td>December</td>\n",
       "      <td>31</td>\n",
       "      <td>Thu</td>\n",
       "      <td>0.1</td>\n",
       "      <td>low_2</td>\n",
       "      <td>14:07 PM</td>\n",
       "      <td>2020-12-31 14:07:00</td>\n",
       "      <td>53.0</td>\n",
       "    </tr>\n",
       "    <tr>\n",
       "      <th>2192</th>\n",
       "      <td>365</td>\n",
       "      <td>December</td>\n",
       "      <td>31</td>\n",
       "      <td>Thu</td>\n",
       "      <td>3.7</td>\n",
       "      <td>high_2</td>\n",
       "      <td>21:01 PM</td>\n",
       "      <td>2020-12-31 21:01:00</td>\n",
       "      <td>53.0</td>\n",
       "    </tr>\n",
       "    <tr>\n",
       "      <th>2193</th>\n",
       "      <td>365</td>\n",
       "      <td>December</td>\n",
       "      <td>31</td>\n",
       "      <td>Thu</td>\n",
       "      <td>4.5</td>\n",
       "      <td>high_1</td>\n",
       "      <td>08:36 AM</td>\n",
       "      <td>2020-12-31 08:36:00</td>\n",
       "      <td>53.0</td>\n",
       "    </tr>\n",
       "    <tr>\n",
       "      <th>2194</th>\n",
       "      <td>365</td>\n",
       "      <td>December</td>\n",
       "      <td>31</td>\n",
       "      <td>Thu</td>\n",
       "      <td>NaN</td>\n",
       "      <td>sunrise</td>\n",
       "      <td>07:08 AM</td>\n",
       "      <td>2020-12-31 07:08:00</td>\n",
       "      <td>53.0</td>\n",
       "    </tr>\n",
       "    <tr>\n",
       "      <th>2195</th>\n",
       "      <td>365</td>\n",
       "      <td>December</td>\n",
       "      <td>31</td>\n",
       "      <td>Thu</td>\n",
       "      <td>NaN</td>\n",
       "      <td>sunset</td>\n",
       "      <td>16:24 PM</td>\n",
       "      <td>2020-12-31 16:24:00</td>\n",
       "      <td>53.0</td>\n",
       "    </tr>\n",
       "  </tbody>\n",
       "</table>\n",
       "<p>2147 rows × 9 columns</p>\n",
       "</div>"
      ],
      "text/plain": [
       "      index     Month Date  Day height    event      time           full_date  \\\n",
       "0         0   January    1  Wed    3.6   high_1  00:00 AM 2020-01-01 00:00:00   \n",
       "1         0   January    1  Wed    0.6    low_2  17:21 PM 2020-01-01 17:21:00   \n",
       "2         0   January    1  Wed    3.6   high_2  12:20 PM 2020-01-01 12:20:00   \n",
       "3         0   January    1  Wed    NaN  sunrise  07:08 AM 2020-01-01 07:08:00   \n",
       "4         0   January    1  Wed    NaN   sunset  16:24 PM 2020-01-01 16:24:00   \n",
       "...     ...       ...  ...  ...    ...      ...       ...                 ...   \n",
       "2191    365  December   31  Thu    0.1    low_2  14:07 PM 2020-12-31 14:07:00   \n",
       "2192    365  December   31  Thu    3.7   high_2  21:01 PM 2020-12-31 21:01:00   \n",
       "2193    365  December   31  Thu    4.5   high_1  08:36 AM 2020-12-31 08:36:00   \n",
       "2194    365  December   31  Thu    NaN  sunrise  07:08 AM 2020-12-31 07:08:00   \n",
       "2195    365  December   31  Thu    NaN   sunset  16:24 PM 2020-12-31 16:24:00   \n",
       "\n",
       "      week_num  \n",
       "0          1.0  \n",
       "1          1.0  \n",
       "2          1.0  \n",
       "3          1.0  \n",
       "4          1.0  \n",
       "...        ...  \n",
       "2191      53.0  \n",
       "2192      53.0  \n",
       "2193      53.0  \n",
       "2194      53.0  \n",
       "2195      53.0  \n",
       "\n",
       "[2147 rows x 9 columns]"
      ]
     },
     "execution_count": 64,
     "metadata": {},
     "output_type": "execute_result"
    }
   ],
   "source": [
    "data"
   ]
  },
  {
   "cell_type": "code",
   "execution_count": 65,
   "metadata": {},
   "outputs": [],
   "source": [
    "# minutes from the previous sunday at midnight"
   ]
  },
  {
   "cell_type": "code",
   "execution_count": 66,
   "metadata": {},
   "outputs": [
    {
     "name": "stderr",
     "output_type": "stream",
     "text": [
      "/Library/Frameworks/Python.framework/Versions/3.8/lib/python3.8/site-packages/pandas/core/indexing.py:671: SettingWithCopyWarning:\n",
      "\n",
      "\n",
      "A value is trying to be set on a copy of a slice from a DataFrame\n",
      "\n",
      "See the caveats in the documentation: https://pandas.pydata.org/pandas-docs/stable/user_guide/indexing.html#returning-a-view-versus-a-copy\n",
      "\n"
     ]
    }
   ],
   "source": [
    "now = datetime.datetime.now() # current time\n",
    "data['minutes_until'] = np.nan\n",
    "for row in range(len(data)): # calculate the number of minutes until each time\n",
    "    delta = data['full_date'].iloc[row] - now\n",
    "    data['minutes_until'].iloc[row] = pd.Timedelta(delta).total_seconds()/60"
   ]
  },
  {
   "cell_type": "code",
   "execution_count": 67,
   "metadata": {},
   "outputs": [
    {
     "data": {
      "text/plain": [
       "index                              0\n",
       "Month                        January\n",
       "Date                               1\n",
       "Day                              Wed\n",
       "height                           0.6\n",
       "event                          low_2\n",
       "time                        17:21 PM\n",
       "full_date        2020-01-01 17:21:00\n",
       "week_num                           1\n",
       "minutes_until                -502668\n",
       "Name: 1, dtype: object"
      ]
     },
     "execution_count": 67,
     "metadata": {},
     "output_type": "execute_result"
    }
   ],
   "source": [
    "data.loc[1,:]"
   ]
  },
  {
   "cell_type": "code",
   "execution_count": null,
   "metadata": {},
   "outputs": [],
   "source": []
  }
 ],
 "metadata": {
  "kernelspec": {
   "display_name": "Python 3",
   "language": "python",
   "name": "python3"
  },
  "language_info": {
   "codemirror_mode": {
    "name": "ipython",
    "version": 3
   },
   "file_extension": ".py",
   "mimetype": "text/x-python",
   "name": "python",
   "nbconvert_exporter": "python",
   "pygments_lexer": "ipython3",
   "version": "3.8.1"
  }
 },
 "nbformat": 4,
 "nbformat_minor": 2
}
